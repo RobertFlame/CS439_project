{
 "cells": [
  {
   "cell_type": "code",
   "execution_count": 1,
   "metadata": {},
   "outputs": [],
   "source": [
    "from tune_lr import *\n",
    "from main_experiments import *\n",
    "\n",
    "import torch\n",
    "from utils.pickle import save_obj, load_obj, make_directory, make_file_directory\n",
    "import matplotlib.pyplot as plt\n",
    "from plot_graph import *\n",
    "\n",
    "\n",
    "%load_ext autoreload\n",
    "%autoreload 2"
   ]
  },
  {
   "cell_type": "markdown",
   "metadata": {},
   "source": [
    "# Tune Learning Rates"
   ]
  },
  {
   "cell_type": "code",
   "execution_count": null,
   "metadata": {},
   "outputs": [],
   "source": [
    "idx = 0# which one to test? (0-11): \n",
    "gpu = 0# Please input which gpu to use\n",
    "\n",
    "tune_learning_rate('resnet', 'cifar10', 'sgd', gpu=gpu) if idx == 0 else None\n",
    "tune_learning_rate('resnet', 'cifar10', 'sgdm', gpu=gpu) if idx == 1 else None\n",
    "tune_learning_rate('resnet', 'cifar10', 'signum', gpu=gpu) if idx == 2 else None\n",
    "tune_learning_rate('resnet', 'cifar10', 'sssgd', gpu=gpu) if idx == 3 else None\n",
    "tune_learning_rate('resnet', 'cifar10', 'ussgdf', gpu=gpu) if idx == 4 else None\n",
    "tune_learning_rate('resnet', 'cifar10', 'ssgdf', gpu=gpu)if idx == 5 else None\n",
    "tune_learning_rate('resnet', 'cifar10', 'sgd_pcak', gpu=gpu) if idx == 6 else None\n",
    "tune_learning_rate('resnet', 'cifar10', 'sgd_topk', gpu=gpu) if idx == 7 else None\n",
    "tune_learning_rate('resnet', 'cifar10', 'ssgd', gpu=gpu) if idx == 8 else None\n",
    "tune_learning_rate('resnet', 'cifar10', 'adam', gpu=gpu) if idx == 9 else None\n",
    "tune_learning_rate('resnet', 'cifar10', 'onebit_adam_unscaled', gpu=gpu) if idx == 10 else None\n",
    "tune_learning_rate('resnet', 'cifar10', 'onebit_adam_scaled', gpu=gpu) if idx == 11 else None"
   ]
  },
  {
   "cell_type": "markdown",
   "metadata": {},
   "source": [
    "# Main Experiments"
   ]
  },
  {
   "cell_type": "code",
   "execution_count": null,
   "metadata": {},
   "outputs": [],
   "source": [
    "batch_size = 128\n",
    "\n",
    "idx = 0# which one to test? (0-11): \n",
    "gpu = 0# Please input which gpu to use\n",
    "\n",
    "run_experiment('resnet', 'cifar10', 'sgd', batch_size=batch_size, num_exp=1, gpu=gpu, lr_val=0.05623413251903491) if idx == 0 else None\n",
    "# run_experiment('resnet', 'cifar10', 'sgdm', batch_size=batch_size, num_exp=1, gpu=gpu, lr_val=0.0031622776601683794) if idx == 1 else None\n",
    "run_experiment('resnet', 'cifar10', 'sgdm', batch_size=batch_size, num_exp=1, gpu=gpu) if idx == 1 else None\n",
    "run_experiment('resnet', 'cifar10', 'signum', batch_size=batch_size, num_exp=1, gpu=gpu, lr_val=0.0001) if idx == 2 else None\n",
    "run_experiment('resnet', 'cifar10', 'sssgd', batch_size=batch_size, num_exp=1, gpu=gpu, lr_val=0.05623413251903491) if idx == 3 else None\n",
    "run_experiment('resnet', 'cifar10', 'ussgdf', batch_size=batch_size, num_exp=1, gpu=gpu, lr_val=2e-3) if idx == 4 else None\n",
    "run_experiment('resnet', 'cifar10', 'ssgd', batch_size=batch_size, num_exp=1, gpu=gpu, lr_val=0.00005623413251903491) if idx == 5 else None\n",
    "run_experiment('resnet', 'cifar10', 'ssgdf', batch_size=batch_size, num_exp=1, gpu=gpu, lr_val=0.05623413251903491) if idx == 6 else None\n",
    "run_experiment('resnet', 'cifar10', 'sgd_pcak', batch_size=batch_size, num_exp=1, gpu=gpu, lr_val=0.01) if idx == 7 else None\n",
    "run_experiment('resnet', 'cifar10', 'sgd_topk', batch_size=batch_size, num_exp=1, gpu=gpu, lr_val=0.05623413251903491) if idx == 8 else None\n",
    "run_experiment('resnet', 'cifar10', 'adam', batch_size=batch_size, num_exp=1, gpu=gpu, start_at=6) if idx == 9 else None\n",
    "run_experiment('resnet', 'cifar10', 'onebit_adam_unscaled', batch_size=batch_size, num_exp=1, gpu=gpu, start_at=6) if idx == 10 else None\n",
    "run_experiment('resnet', 'cifar10', 'onebit_adam_scaled', batch_size=batch_size, num_exp=1, gpu=gpu, start_at=6) if idx == 11 else None"
   ]
  },
  {
   "cell_type": "markdown",
   "metadata": {},
   "source": [
    "# Plotting"
   ]
  },
  {
   "cell_type": "code",
   "execution_count": null,
   "metadata": {},
   "outputs": [],
   "source": [
    "# Plot losses and accuracies for sgd and its variants\r\n",
    "\r\n",
    "exps_all = [\"sgd\", \"ssgdf\", \"sssgd\", \"ssgd\", \"ussgdf\", \"sgdm\"]\r\n",
    "exps =  [\"sgd\", \"ssgdf\", \"sssgd\", \"ssgd\", \"ussgdf\"]\r\n",
    "exps2 = [\"ssgd\", \"sgd_pcak\", \"sgd_topk\"]\r\n",
    "\r\n",
    "example_group_logs = {\r\n",
    "    \"train accuracy\":\"train_accuracies\",\r\n",
    "    \"test accuracy\":\"test_accuracies\",\r\n",
    "    \"train loss\":\"train_losses\",\r\n",
    "    \"test_loss\":\"test_losses\",\r\n",
    "    \"memory norm\":\"memory_norms\"\r\n",
    "}\r\n",
    "\r\n",
    "exp({\"train accuracy\":\"train_accuracies\"}, exps, \"all_train_accuracy_wo_sgdm\")\r\n",
    "exp({\"train accuracy\":\"train_accuracies\"}, exps, \"zoom_all_train_accuracy_wo_sgdm\", yrange=[94.0, 100.0])\r\n",
    "exp({\"train loss\":\"train_losses\"}, exps, \"all_train_loss_wo_sgdm\")\r\n",
    "exp({\"test accuracy\":\"test_accuracies\"}, exps, \"all_test_accuracy_wo_sgdm\")\r\n",
    "exp({\"test accuracy\":\"test_accuracies\"}, exps, \"zoom_all_test_accuracy_wo_sgdm\", yrange=[75.0, 95.0])\r\n",
    "exp({\"test loss\":\"test_losses\"}, exps, \"all_test_loss_wo_sgdm\")\r\n",
    "# exp({\"memory norm\":\"memory_norms\"}, [\"ssgdf\"], \"ssgdf_memory_norm\")\r\n",
    "exp({\"train accuracy\":\"train_accuracies\", \"test accuracy\":\"test_accuracies\"}, exps2, \"compression_accuracy\")\r\n",
    "exp({\"train accuracy\":\"train_accuracies\"}, exps_all, \"all_train_accuracy\")"
   ]
  },
  {
   "cell_type": "code",
   "execution_count": null,
   "metadata": {},
   "outputs": [],
   "source": [
    "# Plot losses and accuracies for Adam and its variants\n",
    "\n",
    "exps =  [\"Vanilla Adam\", '1-bit Adam', 'Scaled 1-bit Adam']\n",
    "\n",
    "exp({\"train accuracy\":\"train_accuracies\"}, exps, \"all_train_accuracy_adam\")\n",
    "exp({\"train accuracy\":\"train_accuracies\"}, exps, \"zoom_all_train_accuracy_adam\", yrange=[80.0, 100.0])\n",
    "exp({\"train loss\":\"train_losses\"}, exps, \"all_train_loss_adam\")\n",
    "exp({\"test accuracy\":\"test_accuracies\"}, exps, \"all_test_accuracy_adam\")\n",
    "exp({\"test accuracy\":\"test_accuracies\"}, exps, \"zoom_all_test_accuracy_adam\", yrange=[80.0, 93.0])\n",
    "exp({\"test loss\":\"test_losses\"}, exps, \"all_test_loss_adam\")"
   ]
  },
  {
   "cell_type": "code",
   "execution_count": null,
   "metadata": {},
   "outputs": [],
   "source": [
    "exp_asqs = load_obj('results/main_experiments/batchsize-128/resnet-cifar10-adam/4/exp_asqs')\n",
    "\n",
    "# only use one of the tensors (here corresponding to the v of a conv layer)\n",
    "for i in range(len(exp_asqs)):\n",
    "    exp_asqs[i] = exp_asqs[i][0]\n",
    "\n",
    "exp_asq = exp_asqs[19]  # T_w = 20\n",
    "\n",
    "# calculate \\delta_t\n",
    "diff = []\n",
    "for i in range(len(exp_asqs)):\n",
    "    diff.append(exp_asqs[i].sqrt() / exp_asq.sqrt())\n",
    "avg_diff = [diff[i].mean() for i in range(len(diff))]\n",
    "med_diff = [diff[i].median() for i in range(len(diff))]\n",
    "\n",
    "# l2 norm of v\n",
    "norms = []\n",
    "for i in range(len(exp_asqs)):\n",
    "    norms.append(exp_asqs[i].norm(p=2))\n",
    "    \n",
    "# plot together\n",
    "import matplotlib.pyplot as plt\n",
    "fig, ax = plt.subplots(1, 2, figsize=(6*2-1,5))\n",
    "ax[0].plot(range(1, 151), norms)\n",
    "ax[0].set_xlabel('Epoch')\n",
    "ax[0].set_ylabel('L2 norm of $v$')\n",
    "ax[1].plot(range(20, 151), avg_diff[19:])\n",
    "ax[1].set_xlabel('Epoch')\n",
    "ax[1].set_ylabel('Component-wise change, $\\delta$')\n",
    "plt.savefig('norm_and_delta.pdf')"
   ]
  }
 ],
 "metadata": {
  "kernelspec": {
   "display_name": "base",
   "language": "python",
   "name": "base"
  },
  "language_info": {
   "codemirror_mode": {
    "name": "ipython",
    "version": 3
   },
   "file_extension": ".py",
   "mimetype": "text/x-python",
   "name": "python",
   "nbconvert_exporter": "python",
   "pygments_lexer": "ipython3",
   "version": "3.7.4"
  }
 },
 "nbformat": 4,
 "nbformat_minor": 5
}